{
 "cells": [
  {
   "cell_type": "code",
   "execution_count": 1,
   "metadata": {
    "collapsed": true
   },
   "outputs": [
    {
     "data": {
      "text/plain": "            Date  Location  MinTemp  MaxTemp  Rainfall  Evaporation  Sunshine  \\\n45587 2007-11-01  Canberra      8.0     24.3       0.0          3.4       6.3   \n45588 2007-11-02  Canberra     14.0     26.9       3.6          4.4       9.7   \n45589 2007-11-03  Canberra     13.7     23.4       3.6          5.8       3.3   \n45590 2007-11-04  Canberra     13.3     15.5      39.8          7.2       9.1   \n45591 2007-11-05  Canberra      7.6     16.1       2.8          5.6      10.6   \n\n      WindGustDir  WindGustSpeed WindDir9am  ... Humidity9am  Humidity3pm  \\\n45587          NW           30.0         SW  ...        68.0         29.0   \n45588         ENE           39.0          E  ...        80.0         36.0   \n45589          NW           85.0          N  ...        82.0         69.0   \n45590          NW           54.0        WNW  ...        62.0         56.0   \n45591         SSE           50.0        SSE  ...        68.0         49.0   \n\n       Pressure9am  Pressure3pm  Cloud9am  Cloud3pm  Temp9am  Temp3pm  \\\n45587       1019.7       1015.0       7.0       7.0     14.4     23.6   \n45588       1012.4       1008.4       5.0       3.0     17.5     25.7   \n45589       1009.5       1007.2       8.0       7.0     15.4     20.2   \n45590       1005.5       1007.0       2.0       7.0     13.5     14.1   \n45591       1018.3       1018.5       7.0       7.0     11.1     15.4   \n\n       RainToday  RainTomorrow  \n45587         No           Yes  \n45588        Yes           Yes  \n45589        Yes           Yes  \n45590        Yes           Yes  \n45591        Yes            No  \n\n[5 rows x 23 columns]",
      "text/html": "<div>\n<style scoped>\n    .dataframe tbody tr th:only-of-type {\n        vertical-align: middle;\n    }\n\n    .dataframe tbody tr th {\n        vertical-align: top;\n    }\n\n    .dataframe thead th {\n        text-align: right;\n    }\n</style>\n<table border=\"1\" class=\"dataframe\">\n  <thead>\n    <tr style=\"text-align: right;\">\n      <th></th>\n      <th>Date</th>\n      <th>Location</th>\n      <th>MinTemp</th>\n      <th>MaxTemp</th>\n      <th>Rainfall</th>\n      <th>Evaporation</th>\n      <th>Sunshine</th>\n      <th>WindGustDir</th>\n      <th>WindGustSpeed</th>\n      <th>WindDir9am</th>\n      <th>...</th>\n      <th>Humidity9am</th>\n      <th>Humidity3pm</th>\n      <th>Pressure9am</th>\n      <th>Pressure3pm</th>\n      <th>Cloud9am</th>\n      <th>Cloud3pm</th>\n      <th>Temp9am</th>\n      <th>Temp3pm</th>\n      <th>RainToday</th>\n      <th>RainTomorrow</th>\n    </tr>\n  </thead>\n  <tbody>\n    <tr>\n      <th>45587</th>\n      <td>2007-11-01</td>\n      <td>Canberra</td>\n      <td>8.0</td>\n      <td>24.3</td>\n      <td>0.0</td>\n      <td>3.4</td>\n      <td>6.3</td>\n      <td>NW</td>\n      <td>30.0</td>\n      <td>SW</td>\n      <td>...</td>\n      <td>68.0</td>\n      <td>29.0</td>\n      <td>1019.7</td>\n      <td>1015.0</td>\n      <td>7.0</td>\n      <td>7.0</td>\n      <td>14.4</td>\n      <td>23.6</td>\n      <td>No</td>\n      <td>Yes</td>\n    </tr>\n    <tr>\n      <th>45588</th>\n      <td>2007-11-02</td>\n      <td>Canberra</td>\n      <td>14.0</td>\n      <td>26.9</td>\n      <td>3.6</td>\n      <td>4.4</td>\n      <td>9.7</td>\n      <td>ENE</td>\n      <td>39.0</td>\n      <td>E</td>\n      <td>...</td>\n      <td>80.0</td>\n      <td>36.0</td>\n      <td>1012.4</td>\n      <td>1008.4</td>\n      <td>5.0</td>\n      <td>3.0</td>\n      <td>17.5</td>\n      <td>25.7</td>\n      <td>Yes</td>\n      <td>Yes</td>\n    </tr>\n    <tr>\n      <th>45589</th>\n      <td>2007-11-03</td>\n      <td>Canberra</td>\n      <td>13.7</td>\n      <td>23.4</td>\n      <td>3.6</td>\n      <td>5.8</td>\n      <td>3.3</td>\n      <td>NW</td>\n      <td>85.0</td>\n      <td>N</td>\n      <td>...</td>\n      <td>82.0</td>\n      <td>69.0</td>\n      <td>1009.5</td>\n      <td>1007.2</td>\n      <td>8.0</td>\n      <td>7.0</td>\n      <td>15.4</td>\n      <td>20.2</td>\n      <td>Yes</td>\n      <td>Yes</td>\n    </tr>\n    <tr>\n      <th>45590</th>\n      <td>2007-11-04</td>\n      <td>Canberra</td>\n      <td>13.3</td>\n      <td>15.5</td>\n      <td>39.8</td>\n      <td>7.2</td>\n      <td>9.1</td>\n      <td>NW</td>\n      <td>54.0</td>\n      <td>WNW</td>\n      <td>...</td>\n      <td>62.0</td>\n      <td>56.0</td>\n      <td>1005.5</td>\n      <td>1007.0</td>\n      <td>2.0</td>\n      <td>7.0</td>\n      <td>13.5</td>\n      <td>14.1</td>\n      <td>Yes</td>\n      <td>Yes</td>\n    </tr>\n    <tr>\n      <th>45591</th>\n      <td>2007-11-05</td>\n      <td>Canberra</td>\n      <td>7.6</td>\n      <td>16.1</td>\n      <td>2.8</td>\n      <td>5.6</td>\n      <td>10.6</td>\n      <td>SSE</td>\n      <td>50.0</td>\n      <td>SSE</td>\n      <td>...</td>\n      <td>68.0</td>\n      <td>49.0</td>\n      <td>1018.3</td>\n      <td>1018.5</td>\n      <td>7.0</td>\n      <td>7.0</td>\n      <td>11.1</td>\n      <td>15.4</td>\n      <td>Yes</td>\n      <td>No</td>\n    </tr>\n  </tbody>\n</table>\n<p>5 rows × 23 columns</p>\n</div>"
     },
     "execution_count": 1,
     "metadata": {},
     "output_type": "execute_result"
    }
   ],
   "source": [
    "# first let's pre-process the data\n",
    "import pandas as pd\n",
    "\n",
    "data = pd.read_csv('weatherAUS.csv')\n",
    "data['Date'] = pd.to_datetime(data[\"Date\"])\n",
    "data = data.dropna()\n",
    "data = data.sort_values(by='Date')\n",
    "data.head()"
   ]
  },
  {
   "cell_type": "code",
   "execution_count": 2,
   "outputs": [
    {
     "name": "stderr",
     "output_type": "stream",
     "text": [
      "100%|██████████| 56420/56420 [06:49<00:00, 137.74it/s]\n"
     ]
    }
   ],
   "source": [
    "from pandas import Timestamp\n",
    "import re\n",
    "from tqdm import tqdm\n",
    "\n",
    "# create the data frame\n",
    "df = pd.DataFrame(data)\n",
    "df = df.replace(to_replace=['Yes', 'No'], value=[1,0])\n",
    "\n",
    "# create the almanac column - for each date, query all the same days, but in different years.\n",
    "# Then, see if it rained that day (or the next day) and sum up the values.\n",
    "def build_regex(date: Timestamp):\n",
    "    day_wo_year = str(date.date()).split('-')[1:]\n",
    "    month = day_wo_year[0]\n",
    "    day = day_wo_year[1]\n",
    "    pattern = r'[\\d]{4}[-]{1}'+ f'{month}' + r'[-]{1}' + f'{day}'\n",
    "    regex = re.compile(pattern)\n",
    "    return regex\n",
    "\n",
    "def sum_previous_days_rain(row) -> int:\n",
    "    # filter the rows based on same day of year and location\n",
    "    date = row['Date']\n",
    "    location = row['Location']\n",
    "    # build regex\n",
    "    regex = build_regex(date)\n",
    "    # filter by location\n",
    "    ldf = df[df['Location'] == location]\n",
    "    # filter same day, different year\n",
    "    options = list(filter(regex.match, list(map(lambda d: str(d), ldf['Date'].values))))\n",
    "    tdf = ldf[ldf['Date'].isin(options)]\n",
    "    summation: int = tdf['RainToday'].sum()\n",
    "    return summation\n",
    "\n",
    "num_of_rows = df.shape[0]\n",
    "def inner_function(row, pbar: tqdm):\n",
    "    sum_to_return: int = sum_previous_days_rain(row)\n",
    "    pbar.update()\n",
    "    return sum_to_return\n",
    "\n",
    "# run a moderately long process\n",
    "with tqdm(total=num_of_rows) as pbar:\n",
    "    df['almanac'] = df.apply(lambda row: inner_function(row, pbar), axis=1)\n",
    "# write to file\n",
    "# file = 'dataframe.txt'\n",
    "# with open(file, 'w') as f:\n",
    "#     print(f.write(df.to_markdown()))"
   ],
   "metadata": {
    "collapsed": false
   }
  },
  {
   "cell_type": "code",
   "execution_count": 3,
   "outputs": [
    {
     "name": "stdout",
     "output_type": "stream",
     "text": [
      "X_train: (45136, 92), Y_train: (45136,)\n",
      "X_test: (11284, 92), Y_test: (11284,)\n"
     ]
    }
   ],
   "source": [
    "from sklearn.model_selection import train_test_split\n",
    "# more formatting\n",
    "df = pd.get_dummies(df,columns=['Location','WindGustDir','WindDir9am','WindDir3pm'])\n",
    "# remove columns Date & RainTomorrow. Date might not be relevant. RainTomorrow is the Y variable.\n",
    "columns = df.columns.values.tolist()\n",
    "columns.remove('Date')\n",
    "columns.remove('RainTomorrow')\n",
    "# df.dropna()\n",
    "# assign X & Y's\n",
    "X = df[columns]\n",
    "Y = df['RainTomorrow']\n",
    "X_train, X_test, Y_train, Y_test = train_test_split(X, Y, test_size=0.2, train_size=0.8, random_state=42)\n",
    "# check uniform shape of data\n",
    "print(f'X_train: {X_train.shape}, Y_train: {Y_train.shape}')\n",
    "print(f'X_test: {X_test.shape}, Y_test: {Y_test.shape}')"
   ],
   "metadata": {
    "collapsed": false
   }
  },
  {
   "cell_type": "code",
   "execution_count": 8,
   "outputs": [
    {
     "name": "stdout",
     "output_type": "stream",
     "text": [
      "MLPC Accuracy: 0.8494328252392769\n"
     ]
    }
   ],
   "source": [
    "# feed the classifier neural network\n",
    "from sklearn.neural_network import MLPClassifier\n",
    "from sklearn.metrics import accuracy_score\n",
    "\n",
    "mlpc = MLPClassifier(hidden_layer_sizes=(20))\n",
    "chistory = mlpc.fit(X_train, Y_train)\n",
    "yc_prediction = mlpc.predict(X_test)\n",
    "mlpc_accuracy = accuracy_score(Y_test, yc_prediction)\n",
    "print(f'MLPC Accuracy: {mlpc_accuracy}')\n",
    "# print(f'MLPC Weights: {mlpc.coefs_}')"
   ],
   "metadata": {
    "collapsed": false
   }
  },
  {
   "cell_type": "code",
   "execution_count": 9,
   "outputs": [
    {
     "name": "stdout",
     "output_type": "stream",
     "text": [
      "MLPR Accuracy: 0.8581176887628501\n"
     ]
    }
   ],
   "source": [
    "# feed the regressor neural network\n",
    "from sklearn.neural_network import MLPRegressor\n",
    "import numpy as np\n",
    "\n",
    "mlpr = MLPRegressor(hidden_layer_sizes=(20), solver='adam', activation='logistic')\n",
    "rhistory = mlpr.fit(X_train, Y_train)\n",
    "yr_prediction: np.ndarray = mlpr.predict(X_test)\n",
    "yrm_prediction = np.array(list(map(lambda y: 1 if y >= 0.5 else 0, yr_prediction)))\n",
    "mlpr_accuracy = accuracy_score(Y_test, yrm_prediction)\n",
    "print(f'MLPR Accuracy: {mlpr_accuracy}')\n",
    "# print(f'MLPR Weights: {mlpr.coefs_}')"
   ],
   "metadata": {
    "collapsed": false
   }
  },
  {
   "cell_type": "code",
   "execution_count": 11,
   "outputs": [
    {
     "name": "stdout",
     "output_type": "stream",
     "text": [
      "Epoch 1/10\n",
      "1411/1411 [==============================] - 2s 861us/step - loss: 6.9018 - accuracy: 0.7806\n",
      "Epoch 2/10\n",
      "1411/1411 [==============================] - 1s 851us/step - loss: 0.5255 - accuracy: 0.7812\n",
      "Epoch 3/10\n",
      "1411/1411 [==============================] - 1s 801us/step - loss: 0.5254 - accuracy: 0.7812\n",
      "Epoch 4/10\n",
      "1411/1411 [==============================] - 1s 848us/step - loss: 0.5254 - accuracy: 0.7812\n",
      "Epoch 5/10\n",
      "1411/1411 [==============================] - 1s 1ms/step - loss: 0.5254 - accuracy: 0.7812\n",
      "Epoch 6/10\n",
      "1411/1411 [==============================] - 1s 922us/step - loss: 0.5254 - accuracy: 0.7812\n",
      "Epoch 7/10\n",
      "1411/1411 [==============================] - 1s 906us/step - loss: 0.5254 - accuracy: 0.7812\n",
      "Epoch 8/10\n",
      "1411/1411 [==============================] - 1s 845us/step - loss: 0.5254 - accuracy: 0.7812\n",
      "Epoch 9/10\n",
      "1411/1411 [==============================] - 1s 834us/step - loss: 0.5254 - accuracy: 0.7812\n",
      "Epoch 10/10\n",
      "1411/1411 [==============================] - 1s 838us/step - loss: 0.5254 - accuracy: 0.7812\n",
      "353/353 [==============================] - 0s 742us/step - loss: 0.5348 - accuracy: 0.7738\n",
      "MLPK accuracy: 0.7738390564918518\n"
     ]
    }
   ],
   "source": [
    "# mlp with keras\n",
    "import tensorflow as tf\n",
    "from tensorflow.python.keras.models import Sequential\n",
    "from tensorflow.python.keras.layers import Dense\n",
    "\n",
    "mlpk = Sequential()\n",
    "mlpk.add(Dense(20, activation='relu'))\n",
    "mlpk.add(Dense(1, activation='sigmoid'))\n",
    "\n",
    "# compile and train model\n",
    "mlpk.compile(loss=tf.keras.losses.binary_crossentropy, optimizer='sgd', metrics=['accuracy'])\n",
    "mlpk.fit(X_train, Y_train, epochs=10)\n",
    "# evaluate the model\n",
    "mlpk_loss, mlpk_accuracy = mlpk.evaluate(X_test, Y_test)\n",
    "print(f'MLPK accuracy: {mlpk_accuracy}')\n",
    "# print(f'MLPK weights: {mlpk.weights}')"
   ],
   "metadata": {
    "collapsed": false
   }
  }
 ],
 "metadata": {
  "kernelspec": {
   "display_name": "Python 3",
   "language": "python",
   "name": "python3"
  },
  "language_info": {
   "codemirror_mode": {
    "name": "ipython",
    "version": 2
   },
   "file_extension": ".py",
   "mimetype": "text/x-python",
   "name": "python",
   "nbconvert_exporter": "python",
   "pygments_lexer": "ipython2",
   "version": "2.7.6"
  }
 },
 "nbformat": 4,
 "nbformat_minor": 0
}
