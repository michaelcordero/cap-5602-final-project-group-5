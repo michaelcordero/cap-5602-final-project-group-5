{
 "cells": [
  {
   "cell_type": "code",
   "execution_count": 60,
   "metadata": {
    "collapsed": true
   },
   "outputs": [
    {
     "data": {
      "text/plain": "            Date  Location  MinTemp  MaxTemp  Rainfall  Evaporation  Sunshine  \\\n45587 2007-11-01  Canberra      8.0     24.3       0.0          3.4       6.3   \n45588 2007-11-02  Canberra     14.0     26.9       3.6          4.4       9.7   \n45589 2007-11-03  Canberra     13.7     23.4       3.6          5.8       3.3   \n45590 2007-11-04  Canberra     13.3     15.5      39.8          7.2       9.1   \n45591 2007-11-05  Canberra      7.6     16.1       2.8          5.6      10.6   \n\n      WindGustDir  WindGustSpeed WindDir9am  ... Humidity9am  Humidity3pm  \\\n45587          NW           30.0         SW  ...        68.0         29.0   \n45588         ENE           39.0          E  ...        80.0         36.0   \n45589          NW           85.0          N  ...        82.0         69.0   \n45590          NW           54.0        WNW  ...        62.0         56.0   \n45591         SSE           50.0        SSE  ...        68.0         49.0   \n\n       Pressure9am  Pressure3pm  Cloud9am  Cloud3pm  Temp9am  Temp3pm  \\\n45587       1019.7       1015.0       7.0       7.0     14.4     23.6   \n45588       1012.4       1008.4       5.0       3.0     17.5     25.7   \n45589       1009.5       1007.2       8.0       7.0     15.4     20.2   \n45590       1005.5       1007.0       2.0       7.0     13.5     14.1   \n45591       1018.3       1018.5       7.0       7.0     11.1     15.4   \n\n       RainToday  RainTomorrow  \n45587         No           Yes  \n45588        Yes           Yes  \n45589        Yes           Yes  \n45590        Yes           Yes  \n45591        Yes            No  \n\n[5 rows x 23 columns]",
      "text/html": "<div>\n<style scoped>\n    .dataframe tbody tr th:only-of-type {\n        vertical-align: middle;\n    }\n\n    .dataframe tbody tr th {\n        vertical-align: top;\n    }\n\n    .dataframe thead th {\n        text-align: right;\n    }\n</style>\n<table border=\"1\" class=\"dataframe\">\n  <thead>\n    <tr style=\"text-align: right;\">\n      <th></th>\n      <th>Date</th>\n      <th>Location</th>\n      <th>MinTemp</th>\n      <th>MaxTemp</th>\n      <th>Rainfall</th>\n      <th>Evaporation</th>\n      <th>Sunshine</th>\n      <th>WindGustDir</th>\n      <th>WindGustSpeed</th>\n      <th>WindDir9am</th>\n      <th>...</th>\n      <th>Humidity9am</th>\n      <th>Humidity3pm</th>\n      <th>Pressure9am</th>\n      <th>Pressure3pm</th>\n      <th>Cloud9am</th>\n      <th>Cloud3pm</th>\n      <th>Temp9am</th>\n      <th>Temp3pm</th>\n      <th>RainToday</th>\n      <th>RainTomorrow</th>\n    </tr>\n  </thead>\n  <tbody>\n    <tr>\n      <th>45587</th>\n      <td>2007-11-01</td>\n      <td>Canberra</td>\n      <td>8.0</td>\n      <td>24.3</td>\n      <td>0.0</td>\n      <td>3.4</td>\n      <td>6.3</td>\n      <td>NW</td>\n      <td>30.0</td>\n      <td>SW</td>\n      <td>...</td>\n      <td>68.0</td>\n      <td>29.0</td>\n      <td>1019.7</td>\n      <td>1015.0</td>\n      <td>7.0</td>\n      <td>7.0</td>\n      <td>14.4</td>\n      <td>23.6</td>\n      <td>No</td>\n      <td>Yes</td>\n    </tr>\n    <tr>\n      <th>45588</th>\n      <td>2007-11-02</td>\n      <td>Canberra</td>\n      <td>14.0</td>\n      <td>26.9</td>\n      <td>3.6</td>\n      <td>4.4</td>\n      <td>9.7</td>\n      <td>ENE</td>\n      <td>39.0</td>\n      <td>E</td>\n      <td>...</td>\n      <td>80.0</td>\n      <td>36.0</td>\n      <td>1012.4</td>\n      <td>1008.4</td>\n      <td>5.0</td>\n      <td>3.0</td>\n      <td>17.5</td>\n      <td>25.7</td>\n      <td>Yes</td>\n      <td>Yes</td>\n    </tr>\n    <tr>\n      <th>45589</th>\n      <td>2007-11-03</td>\n      <td>Canberra</td>\n      <td>13.7</td>\n      <td>23.4</td>\n      <td>3.6</td>\n      <td>5.8</td>\n      <td>3.3</td>\n      <td>NW</td>\n      <td>85.0</td>\n      <td>N</td>\n      <td>...</td>\n      <td>82.0</td>\n      <td>69.0</td>\n      <td>1009.5</td>\n      <td>1007.2</td>\n      <td>8.0</td>\n      <td>7.0</td>\n      <td>15.4</td>\n      <td>20.2</td>\n      <td>Yes</td>\n      <td>Yes</td>\n    </tr>\n    <tr>\n      <th>45590</th>\n      <td>2007-11-04</td>\n      <td>Canberra</td>\n      <td>13.3</td>\n      <td>15.5</td>\n      <td>39.8</td>\n      <td>7.2</td>\n      <td>9.1</td>\n      <td>NW</td>\n      <td>54.0</td>\n      <td>WNW</td>\n      <td>...</td>\n      <td>62.0</td>\n      <td>56.0</td>\n      <td>1005.5</td>\n      <td>1007.0</td>\n      <td>2.0</td>\n      <td>7.0</td>\n      <td>13.5</td>\n      <td>14.1</td>\n      <td>Yes</td>\n      <td>Yes</td>\n    </tr>\n    <tr>\n      <th>45591</th>\n      <td>2007-11-05</td>\n      <td>Canberra</td>\n      <td>7.6</td>\n      <td>16.1</td>\n      <td>2.8</td>\n      <td>5.6</td>\n      <td>10.6</td>\n      <td>SSE</td>\n      <td>50.0</td>\n      <td>SSE</td>\n      <td>...</td>\n      <td>68.0</td>\n      <td>49.0</td>\n      <td>1018.3</td>\n      <td>1018.5</td>\n      <td>7.0</td>\n      <td>7.0</td>\n      <td>11.1</td>\n      <td>15.4</td>\n      <td>Yes</td>\n      <td>No</td>\n    </tr>\n  </tbody>\n</table>\n<p>5 rows × 23 columns</p>\n</div>"
     },
     "execution_count": 60,
     "metadata": {},
     "output_type": "execute_result"
    }
   ],
   "source": [
    "# first let's capture the data\n",
    "import pandas as pd\n",
    "from sklearn.model_selection import train_test_split\n",
    "\n",
    "data = pd.read_csv('weatherAUS.csv')\n",
    "data['Date'] = pd.to_datetime(data[\"Date\"])\n",
    "data = data.dropna()\n",
    "data = data.sort_values(by='Date')\n",
    "data.head()"
   ]
  },
  {
   "cell_type": "code",
   "execution_count": 61,
   "outputs": [
    {
     "name": "stdout",
     "output_type": "stream",
     "text": [
      "X_train: (45136, 91), Y_train: (45136,)\n",
      "X_test: (11284, 91), Y_test: (11284,)\n"
     ]
    }
   ],
   "source": [
    "# format the data\n",
    "df = pd.get_dummies(data,columns=['Location','WindGustDir','WindDir9am','WindDir3pm'])\n",
    "# convert yes's -> 1's, and no's -> 0's\n",
    "df = df.replace(to_replace=['Yes', 'No'], value=[1,0])\n",
    "# remove columns Date & RainTomorrow. Date might not be relevant. RainTomorrow is the Y variable.\n",
    "columns = df.columns.values.tolist()\n",
    "columns.remove('Date')\n",
    "columns.remove('RainTomorrow')\n",
    "# assign X & Y's\n",
    "X = df[columns]\n",
    "Y = df['RainTomorrow']\n",
    "X_train, X_test, Y_train, Y_test = train_test_split(X, Y, test_size=0.2, train_size=0.8, random_state=42)\n",
    "# check uniform shape of data\n",
    "print(f'X_train: {X_train.shape}, Y_train: {Y_train.shape}')\n",
    "print(f'X_test: {X_test.shape}, Y_test: {Y_test.shape}')"
   ],
   "metadata": {
    "collapsed": false
   }
  },
  {
   "cell_type": "code",
   "execution_count": 62,
   "outputs": [
    {
     "name": "stdout",
     "output_type": "stream",
     "text": [
      "MLPC Accuracy: 0.8420772775611485\n"
     ]
    }
   ],
   "source": [
    "# feed the classifier neural network\n",
    "from sklearn.neural_network import MLPClassifier\n",
    "from sklearn.metrics import accuracy_score\n",
    "\n",
    "mlpc = MLPClassifier(hidden_layer_sizes=(20))\n",
    "chistory = mlpc.fit(X_train, Y_train)\n",
    "yc_prediction = mlpc.predict(X_test)\n",
    "mlpc_accuracy = accuracy_score(Y_test, yc_prediction)\n",
    "print(f'MLPC Accuracy: {mlpc_accuracy}')"
   ],
   "metadata": {
    "collapsed": false
   }
  },
  {
   "cell_type": "code",
   "execution_count": 63,
   "outputs": [
    {
     "name": "stdout",
     "output_type": "stream",
     "text": [
      "MLPR Accuracy: 0.8511166253101737\n"
     ]
    }
   ],
   "source": [
    "# feed the regressor neural network\n",
    "from sklearn.neural_network import MLPRegressor\n",
    "import numpy as np\n",
    "\n",
    "mlpr = MLPRegressor(hidden_layer_sizes=(20), solver='adam', activation='logistic')\n",
    "rhistory = mlpr.fit(X_train, Y_train)\n",
    "yr_prediction: np.ndarray = mlpr.predict(X_test)\n",
    "yrm_prediction = np.array(list(map(lambda y: 1 if y >= 0.5 else 0, yr_prediction)))\n",
    "mlpr_accuracy = accuracy_score(Y_test, yrm_prediction)\n",
    "print(f'MLPR Accuracy: {mlpr_accuracy}')"
   ],
   "metadata": {
    "collapsed": false
   }
  },
  {
   "cell_type": "code",
   "execution_count": 70,
   "outputs": [
    {
     "name": "stdout",
     "output_type": "stream",
     "text": [
      "Epoch 1/50\n",
      "1411/1411 [==============================] - 4s 2ms/step - loss: 1415.3013 - accuracy: 0.6817\n",
      "Epoch 2/50\n",
      "1411/1411 [==============================] - 3s 2ms/step - loss: 977.5664 - accuracy: 0.7126\n",
      "Epoch 3/50\n",
      "1411/1411 [==============================] - 3s 2ms/step - loss: 743.7501 - accuracy: 0.7375\n",
      "Epoch 4/50\n",
      "1411/1411 [==============================] - 3s 2ms/step - loss: 686.3413 - accuracy: 0.7453\n",
      "Epoch 5/50\n",
      "1411/1411 [==============================] - 3s 2ms/step - loss: 645.7558 - accuracy: 0.7519\n",
      "Epoch 6/50\n",
      "1411/1411 [==============================] - 3s 2ms/step - loss: 627.7392 - accuracy: 0.7524\n",
      "Epoch 7/50\n",
      "1411/1411 [==============================] - 3s 2ms/step - loss: 580.6348 - accuracy: 0.7604\n",
      "Epoch 8/50\n",
      "1411/1411 [==============================] - 2s 2ms/step - loss: 603.1181 - accuracy: 0.7598\n",
      "Epoch 9/50\n",
      "1411/1411 [==============================] - 2s 2ms/step - loss: 562.0945 - accuracy: 0.7628\n",
      "Epoch 10/50\n",
      "1411/1411 [==============================] - 3s 2ms/step - loss: 559.1134 - accuracy: 0.7632\n",
      "Epoch 11/50\n",
      "1411/1411 [==============================] - 3s 2ms/step - loss: 549.1519 - accuracy: 0.7685\n",
      "Epoch 12/50\n",
      "1411/1411 [==============================] - 3s 2ms/step - loss: 568.1234 - accuracy: 0.7651\n",
      "Epoch 13/50\n",
      "1411/1411 [==============================] - 2s 2ms/step - loss: 550.1326 - accuracy: 0.7675\n",
      "Epoch 14/50\n",
      "1411/1411 [==============================] - 3s 2ms/step - loss: 571.5941 - accuracy: 0.7630\n",
      "Epoch 15/50\n",
      "1411/1411 [==============================] - 3s 2ms/step - loss: 559.5852 - accuracy: 0.7654\n",
      "Epoch 16/50\n",
      "1411/1411 [==============================] - 3s 2ms/step - loss: 546.4547 - accuracy: 0.7668\n",
      "Epoch 17/50\n",
      "1411/1411 [==============================] - 3s 2ms/step - loss: 569.0272 - accuracy: 0.7632\n",
      "Epoch 18/50\n",
      "1411/1411 [==============================] - 2s 2ms/step - loss: 525.3560 - accuracy: 0.7741\n",
      "Epoch 19/50\n",
      "1411/1411 [==============================] - 3s 2ms/step - loss: 569.5465 - accuracy: 0.7646\n",
      "Epoch 20/50\n",
      "1411/1411 [==============================] - 3s 2ms/step - loss: 529.6225 - accuracy: 0.7710\n",
      "Epoch 21/50\n",
      "1411/1411 [==============================] - 3s 2ms/step - loss: 553.7024 - accuracy: 0.7681\n",
      "Epoch 22/50\n",
      "1411/1411 [==============================] - 2s 2ms/step - loss: 551.2071 - accuracy: 0.7679\n",
      "Epoch 23/50\n",
      "1411/1411 [==============================] - 2s 1ms/step - loss: 534.1354 - accuracy: 0.7716\n",
      "Epoch 24/50\n",
      "1411/1411 [==============================] - 1s 934us/step - loss: 533.8923 - accuracy: 0.7733\n",
      "Epoch 25/50\n",
      "1411/1411 [==============================] - 1s 946us/step - loss: 530.9439 - accuracy: 0.7714\n",
      "Epoch 26/50\n",
      "1411/1411 [==============================] - 1s 885us/step - loss: 505.3759 - accuracy: 0.7761\n",
      "Epoch 27/50\n",
      "1411/1411 [==============================] - 1s 865us/step - loss: 499.0439 - accuracy: 0.7783\n",
      "Epoch 28/50\n",
      "1411/1411 [==============================] - 1s 835us/step - loss: 530.6585 - accuracy: 0.7703\n",
      "Epoch 29/50\n",
      "1411/1411 [==============================] - 1s 835us/step - loss: 545.8420 - accuracy: 0.7711\n",
      "Epoch 30/50\n",
      "1411/1411 [==============================] - 1s 880us/step - loss: 527.2034 - accuracy: 0.7740\n",
      "Epoch 31/50\n",
      "1411/1411 [==============================] - 1s 1ms/step - loss: 512.5785 - accuracy: 0.7755\n",
      "Epoch 32/50\n",
      "1411/1411 [==============================] - 1s 919us/step - loss: 524.7920 - accuracy: 0.7732\n",
      "Epoch 33/50\n",
      "1411/1411 [==============================] - 1s 903us/step - loss: 527.2302 - accuracy: 0.7739\n",
      "Epoch 34/50\n",
      "1411/1411 [==============================] - 1s 867us/step - loss: 528.3297 - accuracy: 0.7739\n",
      "Epoch 35/50\n",
      "1411/1411 [==============================] - 1s 849us/step - loss: 518.5865 - accuracy: 0.7740\n",
      "Epoch 36/50\n",
      "1411/1411 [==============================] - 1s 855us/step - loss: 526.5826 - accuracy: 0.7743\n",
      "Epoch 37/50\n",
      "1411/1411 [==============================] - 1s 908us/step - loss: 499.1877 - accuracy: 0.7793\n",
      "Epoch 38/50\n",
      "1411/1411 [==============================] - 1s 985us/step - loss: 526.7654 - accuracy: 0.7714\n",
      "Epoch 39/50\n",
      "1411/1411 [==============================] - 1s 925us/step - loss: 490.4232 - accuracy: 0.7793\n",
      "Epoch 40/50\n",
      "1411/1411 [==============================] - 1s 885us/step - loss: 510.1656 - accuracy: 0.7764\n",
      "Epoch 41/50\n",
      "1411/1411 [==============================] - 1s 872us/step - loss: 495.8709 - accuracy: 0.7786\n",
      "Epoch 42/50\n",
      "1411/1411 [==============================] - 1s 869us/step - loss: 533.5929 - accuracy: 0.7732\n",
      "Epoch 43/50\n",
      "1411/1411 [==============================] - 1s 830us/step - loss: 535.8157 - accuracy: 0.7716\n",
      "Epoch 44/50\n",
      "1411/1411 [==============================] - 1s 829us/step - loss: 489.0800 - accuracy: 0.7824\n",
      "Epoch 45/50\n",
      "1411/1411 [==============================] - 1s 864us/step - loss: 529.1331 - accuracy: 0.7722\n",
      "Epoch 46/50\n",
      "1411/1411 [==============================] - 1s 960us/step - loss: 522.9015 - accuracy: 0.7751\n",
      "Epoch 47/50\n",
      "1411/1411 [==============================] - 1s 907us/step - loss: 509.0487 - accuracy: 0.7795\n",
      "Epoch 48/50\n",
      "1411/1411 [==============================] - 1s 888us/step - loss: 490.3173 - accuracy: 0.7805\n",
      "Epoch 49/50\n",
      "1411/1411 [==============================] - 1s 835us/step - loss: 525.6108 - accuracy: 0.7740\n",
      "Epoch 50/50\n",
      "1411/1411 [==============================] - 1s 850us/step - loss: 528.8557 - accuracy: 0.7763\n",
      "353/353 [==============================] - 0s 759us/step - loss: 384.2020 - accuracy: 0.8251\n",
      "MLPK accuracy: 0.8250620365142822\n"
     ]
    }
   ],
   "source": [
    "# mlp with keras\n",
    "import tensorflow as tf\n",
    "from tensorflow.python.keras.models import Sequential\n",
    "from tensorflow.python.keras.layers import Dense\n",
    "\n",
    "mlpk = Sequential()\n",
    "# mlpk.add(Dense(50, activation='relu'))\n",
    "# mlpk.add(Dense(25, activation='relu'))\n",
    "mlpk.add(Dense(1, activation='sigmoid'))\n",
    "\n",
    "# compile and train model\n",
    "mlpk.compile(loss=tf.keras.losses.binary_crossentropy, optimizer='sgd', metrics=['accuracy'])\n",
    "mlpk.fit(X_train, Y_train, epochs=50)\n",
    "# evaluate the model\n",
    "mlpk_loss, mlpk_accuracy = mlpk.evaluate(X_test, Y_test)\n",
    "print(f'MLPK accuracy: {mlpk_accuracy}')"
   ],
   "metadata": {
    "collapsed": false
   }
  },
  {
   "cell_type": "code",
   "execution_count": null,
   "outputs": [],
   "source": [],
   "metadata": {
    "collapsed": false
   }
  }
 ],
 "metadata": {
  "kernelspec": {
   "display_name": "Python 3",
   "language": "python",
   "name": "python3"
  },
  "language_info": {
   "codemirror_mode": {
    "name": "ipython",
    "version": 2
   },
   "file_extension": ".py",
   "mimetype": "text/x-python",
   "name": "python",
   "nbconvert_exporter": "python",
   "pygments_lexer": "ipython2",
   "version": "2.7.6"
  }
 },
 "nbformat": 4,
 "nbformat_minor": 0
}
